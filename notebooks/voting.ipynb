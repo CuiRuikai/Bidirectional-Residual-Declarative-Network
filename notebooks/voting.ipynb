{
 "cells": [
  {
   "cell_type": "markdown",
   "metadata": {},
   "source": [
    "# This notebook simulates the voting mechanism"
   ]
  },
  {
   "cell_type": "code",
   "execution_count": 1,
   "metadata": {},
   "outputs": [],
   "source": [
    "import torch\n",
    "import numpy as np\n",
    "import pandas as pd\n",
    "import matplotlib.pyplot as plt\n",
    "\n",
    "from sklearn.metrics import classification_report\n",
    "from sklearn.metrics import confusion_matrix"
   ]
  },
  {
   "cell_type": "code",
   "execution_count": 2,
   "metadata": {},
   "outputs": [],
   "source": [
    "outputs=torch.load('pred/outputs.pt').numpy()\n",
    "targets=torch.load('pred/targets.pt').numpy()\n",
    "paths=pd.read_csv('pred/paths.csv')\n",
    "path=[s.split('\\\\')[-1] for s in paths['0']]\n",
    "meta=pd.read_csv('pred/val_meta.csv')"
   ]
  },
  {
   "cell_type": "code",
   "execution_count": 7,
   "metadata": {},
   "outputs": [],
   "source": [
    "preds=np.zeros((1000,7))\n",
    "label=np.zeros(1000)\n",
    "idx=0\n",
    "for i in range(146):\n",
    "    rows=meta[meta['no']==i]\n",
    "    if rows.shape[0]==0:\n",
    "        continue\n",
    "    if rows.shape[0]> 1:\n",
    "        acc=np.zeros((1,7))\n",
    "        count=0\n",
    "        for r in rows.index:\n",
    "            acc+=(outputs[r])*(meta['prob'][r]*(0.5**count))\n",
    "            count+=1\n",
    "        acc=acc/len(rows.index)\n",
    "        preds[idx]=acc\n",
    "        label[idx]=targets[r]\n",
    "        idx+=1\n",
    "    else:\n",
    "        preds[idx]=outputs[rows.index[0]]\n",
    "        label[idx]=targets[rows.index[0]]\n",
    "        idx+=1\n",
    "        \n",
    "preds=preds[:idx]\n",
    "label=label[:idx]"
   ]
  },
  {
   "cell_type": "code",
   "execution_count": 8,
   "metadata": {},
   "outputs": [
    {
     "name": "stdout",
     "output_type": "stream",
     "text": [
      "              precision    recall  f1-score   support\n",
      "\n",
      "       angry     0.6667    0.7000    0.6829        20\n",
      "     disgust     0.5294    0.5625    0.5455        16\n",
      "        fear     0.6190    0.5909    0.6047        22\n",
      "       happy     0.7143    0.5263    0.6061        19\n",
      "     natural     0.4706    0.3636    0.4103        22\n",
      "         sad     0.5000    0.5500    0.5238        20\n",
      "    surprise     0.3793    0.5000    0.4314        22\n",
      "\n",
      "    accuracy                         0.5390       141\n",
      "   macro avg     0.5542    0.5419    0.5435       141\n",
      "weighted avg     0.5510    0.5390    0.5404       141\n",
      "\n"
     ]
    }
   ],
   "source": [
    "classes = ('angry', 'disgust', 'fear', 'happy', 'natural', 'sad', 'surprise')\n",
    "pred_label=np.argmax(preds,axis=1)\n",
    "print(classification_report(label,pred_label,digits=4,target_names=classes))"
   ]
  },
  {
   "cell_type": "code",
   "execution_count": 9,
   "metadata": {},
   "outputs": [],
   "source": [
    "cm=confusion_matrix(label,pred_label)"
   ]
  },
  {
   "cell_type": "code",
   "execution_count": 6,
   "metadata": {},
   "outputs": [
    {
     "data": {
      "image/png": "[encoded data removed]",
      "text/plain": [
       "<Figure size 432x288 with 2 Axes>"
      ]
     },
     "metadata": {
      "needs_background": "light"
     },
     "output_type": "display_data"
    }
   ],
   "source": [
    "classes = ('angry', 'disgust', 'fear', 'happy', 'natural', 'sad', 'surprise')\n",
    "plt.imshow(cm/np.sum(cm,axis=1))\n",
    "plt.xlabel('predict')\n",
    "plt.ylabel('true')\n",
    "plt.xticks(np.arange(7), classes)\n",
    "plt.xticks(rotation=45)\n",
    "plt.yticks(np.arange(7), classes)\n",
    "plt.yticks(rotation=45)\n",
    "plt.colorbar()\n",
    "plt.savefig('figures/performance_recall.eps', format='eps')\n",
    "plt.show()"
   ]
  },
  {
   "cell_type": "code",
   "execution_count": null,
   "metadata": {},
   "outputs": [],
   "source": []
  }
 ],
 "metadata": {
  "kernelspec": {
   "display_name": "Python 3.7.6 64-bit ('pytorch': conda)",
   "language": "python",
   "name": "python37664bitpytorchcondae14a2c59baf344ca92986c70f1ae0f03"
  },
  "language_info": {
   "codemirror_mode": {
    "name": "ipython",
    "version": 3
   },
   "file_extension": ".py",
   "mimetype": "text/x-python",
   "name": "python",
   "nbconvert_exporter": "python",
   "pygments_lexer": "ipython3",
   "version": "3.7.6"
  }
 },
 "nbformat": 4,
 "nbformat_minor": 4
}
